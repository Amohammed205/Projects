{
 "cells": [
  {
   "cell_type": "code",
   "execution_count": 1,
   "metadata": {},
   "outputs": [],
   "source": [
    "# Imports all the needed built in libraries\n",
    "%matplotlib notebook\n",
    "import numpy as np\n",
    "import math\n",
    "import matplotlib.pyplot as plt"
   ]
  },
  {
   "cell_type": "code",
   "execution_count": 2,
   "metadata": {},
   "outputs": [],
   "source": [
    "# defining constants\n",
    "\n",
    "# Bohr radius (cm)\n",
    "a0 = 0.529177249*10**-8\n",
    "\n",
    "# Well depth (cm)\n",
    "De = 452.71 \n",
    "\n",
    "# Equilibrium distance\n",
    "re = 9.4079*a0\n",
    "\n",
    "# van der waals coefficients (cm)\n",
    "c6 = (8.4673*10**8)*(a0)**6\n",
    "c8 = (8.0108*10**10)*(a0)**8\n",
    "c10 = (9.4242*10**12)*(a0)**10 \n",
    "\n",
    "# parameters\n",
    "phiList = [-1.8284, 0.48678, -0.065081, -0.30087, -1.5195]\n",
    "phi0 = -1.8284\n",
    "phi1 = 0.48678\n",
    "phi2 = -0.065081\n",
    "phi3 = -0.30087\n",
    "phi4 = -1.5195"
   ]
  },
  {
   "cell_type": "code",
   "execution_count": 3,
   "metadata": {},
   "outputs": [],
   "source": [
    "def potential(r):\n",
    "    \n",
    "    # Defining the necessary variables \n",
    "    ulr = (c6*r**-6)+(c8*r**-8)+(c10*r**-10)\n",
    "    ulre = (c6*re**-6)+(c8*re**-8)+(c10*re**-10)\n",
    "    \n",
    "    ypr = ((r**5)-(re**5))/((r**5)+(re**5))\n",
    "    yqr = ((r**4)-(re**4))/((r**4)+(re**4))\n",
    "    \n",
    "    phiInf = math.log((2*De)/ulre)\n",
    "    \n",
    "    # Sum for Phi(r)\n",
    "    Sum = 0\n",
    "    for j in range(len(phiList)):\n",
    "        Sum += phiList[j]*((yqr)**j)\n",
    "        \n",
    "    # Phi(r)\n",
    "    Phir = ((1-ypr)*Sum)+(ypr*phiInf)\n",
    "    \n",
    "    # The Potential\n",
    "    Vr = De*((1-((ulr/ulre)*np.exp(-Phir*ypr)))**2)-De\n",
    "    \n",
    "    return Vr"
   ]
  },
  {
   "cell_type": "code",
   "execution_count": 4,
   "metadata": {},
   "outputs": [
    {
     "ename": "NameError",
     "evalue": "name 'np' is not defined",
     "output_type": "error",
     "traceback": [
      "\u001b[1;31m---------------------------------------------------------------------------\u001b[0m",
      "\u001b[1;31mNameError\u001b[0m                                 Traceback (most recent call last)",
      "\u001b[1;32m<ipython-input-4-78bf5675f852>\u001b[0m in \u001b[0;36m<module>\u001b[1;34m\u001b[0m\n\u001b[0;32m      1\u001b[0m \u001b[0mh\u001b[0m \u001b[1;33m=\u001b[0m \u001b[1;36m0.05\u001b[0m\u001b[1;33m\u001b[0m\u001b[1;33m\u001b[0m\u001b[0m\n\u001b[1;32m----> 2\u001b[1;33m \u001b[0mr\u001b[0m \u001b[1;33m=\u001b[0m \u001b[0mnp\u001b[0m\u001b[1;33m.\u001b[0m\u001b[0marange\u001b[0m\u001b[1;33m(\u001b[0m\u001b[1;36m5\u001b[0m\u001b[1;33m,\u001b[0m \u001b[1;36m35\u001b[0m\u001b[1;33m,\u001b[0m \u001b[0mh\u001b[0m\u001b[1;33m)\u001b[0m\u001b[1;33m\u001b[0m\u001b[1;33m\u001b[0m\u001b[0m\n\u001b[0m\u001b[0;32m      3\u001b[0m \u001b[1;33m\u001b[0m\u001b[0m\n\u001b[0;32m      4\u001b[0m \u001b[1;31m#Array for potentials\u001b[0m\u001b[1;33m\u001b[0m\u001b[1;33m\u001b[0m\u001b[1;33m\u001b[0m\u001b[0m\n\u001b[0;32m      5\u001b[0m \u001b[0mVrArr\u001b[0m \u001b[1;33m=\u001b[0m \u001b[1;33m[\u001b[0m\u001b[1;33m]\u001b[0m\u001b[1;33m\u001b[0m\u001b[1;33m\u001b[0m\u001b[0m\n",
      "\u001b[1;31mNameError\u001b[0m: name 'np' is not defined"
     ]
    }
   ],
   "source": [
    "h = 0.05\n",
    "r = np.arange(5, 35, h)\n",
    "\n",
    "#Array for potentials\n",
    "VrArr = []\n",
    "for i in range(len(r)):\n",
    "    VrArr.append(potential(r[i]*a0))\n",
    "    "
   ]
  },
  {
   "cell_type": "code",
   "execution_count": null,
   "metadata": {},
   "outputs": [],
   "source": [
    "# Plots graph and axis ranges\n",
    "fig, ax = plt.subplots()\n",
    "plt.plot(r,VrArr,\"-\")\n",
    "plt.ylim(-500, 100)\n",
    "plt.xlim(6, 35)\n",
    "\n",
    "# Plots ticks on x axis.\n",
    "plt.xticks(np.arange(6, 36, 1.0))   \n",
    "labels = [item.get_text() for item in ax.get_xticklabels()]\n",
    "labels[4] = '10'\n",
    "labels[9] = '15'\n",
    "labels[14] = '20'\n",
    "labels[19] = '25'\n",
    "labels[24] = '30'\n",
    "labels[29] = '35'\n",
    "ax.set_xticklabels(labels) \n",
    "\n",
    "# Labels\n",
    "plt.title('Potential Against Particle Distance (R)')\n",
    "plt.xlabel('R (units of a0)')\n",
    "plt.ylabel('Potential (1/cm)')"
   ]
  },
  {
   "cell_type": "code",
   "execution_count": null,
   "metadata": {},
   "outputs": [],
   "source": [
    "#Grad\n",
    "m = (potential(7*a0)-potential(8*a0))/((7-8)*a0)"
   ]
  },
  {
   "cell_type": "code",
   "execution_count": null,
   "metadata": {},
   "outputs": [],
   "source": [
    "#Y-intercept\n",
    "\n",
    "c = potential(7*a0) -(m*7*a0)"
   ]
  },
  {
   "cell_type": "code",
   "execution_count": null,
   "metadata": {},
   "outputs": [],
   "source": [
    "r2 = np.arange(0, 8, h)\n",
    "\n",
    "#Array for approximation\n",
    "ApproxArr = []\n",
    "for i in range(len(r2)):\n",
    "    ApproxArr.append((m*r2[i]*a0) + c)\n",
    "print(ApproxArr[0])"
   ]
  },
  {
   "cell_type": "code",
   "execution_count": null,
   "metadata": {},
   "outputs": [],
   "source": [
    "# Plots graph and axis ranges\n",
    "fig, ax = plt.subplots()\n",
    "plt.plot(r[58:],VrArr[58:],\"-\", label = \"Potential\")\n",
    "plt.plot(r2,ApproxArr,\"-\", label = \"Approximation\")\n",
    "plt.ylim(-500, 6500)\n",
    "plt.xlim(0, 35)\n",
    "\n",
    "# # Plots ticks on x axis.\n",
    "plt.xticks(np.arange(0, 36, 1.0))   \n",
    "labels = [item.get_text() for item in ax.get_xticklabels()]\n",
    "labels[0] = '0'\n",
    "labels[5] = '5'\n",
    "labels[10] = '10'\n",
    "labels[15] = '15'\n",
    "labels[20] = '20'\n",
    "labels[25] = '25'\n",
    "labels[30] = '30'\n",
    "labels[35] = '35'\n",
    "ax.set_xticklabels(labels) \n",
    "\n",
    "# Labels\n",
    "plt.title('Potential Against Particle Distance (R)')\n",
    "plt.xlabel('R (units of a0)')\n",
    "plt.ylabel('Potential (1/cm)')\n",
    "plt.legend()"
   ]
  },
  {
   "cell_type": "code",
   "execution_count": null,
   "metadata": {
    "scrolled": false
   },
   "outputs": [],
   "source": [
    "# Plots graph and axis ranges\n",
    "fig, ax = plt.subplots()\n",
    "plt.plot(r[58:],VrArr[58:],\"-\", label = \"Potential\")\n",
    "plt.plot(r2,ApproxArr,\"-\", label = \"Approximation\")\n",
    "plt.ylim(-500, 100)\n",
    "plt.xlim(6, 35)\n",
    "\n",
    "# Plots ticks on x axis.\n",
    "plt.xticks(np.arange(6, 36, 1.0))   \n",
    "labels = [item.get_text() for item in ax.get_xticklabels()]\n",
    "labels[4] = '10'\n",
    "labels[9] = '15'\n",
    "labels[14] = '20'\n",
    "labels[19] = '25'\n",
    "labels[24] = '30'\n",
    "labels[29] = '35'\n",
    "ax.set_xticklabels(labels) \n",
    "\n",
    "# Labels\n",
    "plt.title('Potential Against Particle Distance (R)')\n",
    "plt.xlabel('R (units of a0)')\n",
    "plt.ylabel('Potential (1/cm)')\n",
    "plt.legend()"
   ]
  },
  {
   "cell_type": "markdown",
   "metadata": {},
   "source": [
    "# Numerical Integration"
   ]
  },
  {
   "cell_type": "code",
   "execution_count": null,
   "metadata": {},
   "outputs": [],
   "source": [
    "Approxline = ApproxArr+VrArr[60:] # Array for Potential (with approximation)\n",
    "h = 0.05\n",
    "r3 = np.arange(0, 35, h) # Array for distances between particles\n",
    "# print(r3)\n",
    "# print(Approxline[0])"
   ]
  },
  {
   "cell_type": "code",
   "execution_count": null,
   "metadata": {},
   "outputs": [],
   "source": [
    "# Angular Frequency (l) and Wave Number (K)\n",
    "l = 0\n",
    "k = 2 #(2)\n",
    "\n",
    "# Mass for particles\n",
    "m1 = 86.9091805310\n",
    "m2 = 3 #4.002603254413\n",
    "\n",
    "# Atomic mass and electron mass in grams\n",
    "BMC = 1.66053873*10**-24\n",
    "BME = 0.910938188*10**-27\n",
    "\n",
    "# Reduced mass\n",
    "mu = ((m1*m2)/(m1+m2))*(BMC/BME)"
   ]
  },
  {
   "cell_type": "code",
   "execution_count": null,
   "metadata": {},
   "outputs": [],
   "source": [
    "# Code for f(x) array (Cant take into account first value as R=0, So the length of fArr is 699 not 700)\n",
    "fArr = []\n",
    "for i in range(len(r3)-1):\n",
    "    f = ((-l*(l+1))/r3[i+1]**2)-(2*mu*Approxline[i+1])+(k**2)\n",
    "    fArr.append(f)"
   ]
  },
  {
   "cell_type": "code",
   "execution_count": null,
   "metadata": {},
   "outputs": [],
   "source": [
    "print(fArr)"
   ]
  },
  {
   "cell_type": "code",
   "execution_count": null,
   "metadata": {},
   "outputs": [],
   "source": [
    "# Array for y with y0 and y1 as the start\n",
    "yArr = []\n",
    "y0 = (r3[1]**(l+1))\n",
    "y1 = (r3[2]**(l+1))\n",
    "yArr.append(y0)\n",
    "yArr.append(y1)\n",
    "\n",
    "# For loop, trying to find every y value for the 699 values for f(x)\n",
    "for i in range(len(fArr)-2):\n",
    "    a = (2-((5/6)*h**2)*fArr[i+1])*yArr[i+1]\n",
    "    b = (1+((1/12)*h**2)*fArr[i])*yArr[i]\n",
    "    c = 1+((1/12)*h**2)*fArr[i+2]\n",
    "    y = (a-b)/c\n",
    "    yArr.append(y) "
   ]
  },
  {
   "cell_type": "code",
   "execution_count": null,
   "metadata": {},
   "outputs": [],
   "source": [
    "print(yArr[:308])"
   ]
  },
  {
   "cell_type": "code",
   "execution_count": null,
   "metadata": {},
   "outputs": [],
   "source": [
    "fig, ax = plt.subplots()\n",
    "plt.plot(r3[1:76],yArr[:75],\"-\")\n",
    "plt.yscale(\"log\")\n",
    "plt.yscale('symlog')\n",
    "\n",
    "# Labels\n",
    "plt.title('Solutions Against Particle Distance')\n",
    "plt.xlabel('R (a0)')\n",
    "plt.ylabel('log(G(K,R)) log(a0))')"
   ]
  },
  {
   "cell_type": "markdown",
   "metadata": {},
   "source": [
    "# Phase Shift Calculations (For L = 0)"
   ]
  },
  {
   "cell_type": "markdown",
   "metadata": {},
   "source": [
    "# Test 1"
   ]
  },
  {
   "cell_type": "code",
   "execution_count": null,
   "metadata": {},
   "outputs": [],
   "source": [
    "#Two R values where K(R1-R2) ≈ π \n",
    "R1 = r3[100] #5\n",
    "R2 = r3[163] #8.15"
   ]
  },
  {
   "cell_type": "code",
   "execution_count": null,
   "metadata": {},
   "outputs": [],
   "source": [
    "# Numerical integration for R1 and R2 and finding the division of that \n",
    "print(yArr[99])\n",
    "print(yArr[162])\n",
    "R = yArr[99]/yArr[162]"
   ]
  },
  {
   "cell_type": "code",
   "execution_count": null,
   "metadata": {},
   "outputs": [],
   "source": [
    "#For R1\n",
    "SlR1 = np.sin((k*R1)-(l*np.pi/2))\n",
    "print(SlR1)\n",
    "ClR1 = np.cos((k*R1)-(np.pi/2))\n",
    "print(ClR1)\n",
    "\n",
    "#For R2\n",
    "SlR2 = np.sin((k*R2)-(l*np.pi/2))\n",
    "print(SlR2)\n",
    "ClR2 = np.cos((k*R2)-(np.pi/2))\n",
    "print(ClR2)"
   ]
  },
  {
   "cell_type": "code",
   "execution_count": null,
   "metadata": {},
   "outputs": [],
   "source": [
    "#Phase Shift\n",
    "Phase0 = np.arctan(((R*SlR2)-SlR1)/(ClR1-(R*ClR2)))\n",
    "print(Phase0)"
   ]
  },
  {
   "cell_type": "markdown",
   "metadata": {},
   "source": [
    "# Test 2"
   ]
  },
  {
   "cell_type": "code",
   "execution_count": null,
   "metadata": {},
   "outputs": [],
   "source": [
    "#Two R values where K(R1-R2) ≈ π \n",
    "R1 = r3[200]#10\n",
    "R2 = r3[263]#13.15"
   ]
  },
  {
   "cell_type": "code",
   "execution_count": null,
   "metadata": {},
   "outputs": [],
   "source": [
    "# Numerical integration for R1 and R2 and finding the division of that \n",
    "print(yArr[199])\n",
    "print(yArr[262])\n",
    "R = yArr[199]/yArr[262]"
   ]
  },
  {
   "cell_type": "code",
   "execution_count": null,
   "metadata": {},
   "outputs": [],
   "source": [
    "#For R1\n",
    "SlR1 = np.sin((k*R1)-(l*np.pi/2))  \n",
    "print(SlR1)\n",
    "ClR1 = np.cos((k*R1)-(np.pi/2))# Change this to l*\n",
    "print(ClR1)\n",
    "\n",
    "#For R2\n",
    "SlR2 = np.sin((k*R2)-(l*np.pi/2))\n",
    "print(SlR2)\n",
    "ClR2 = np.cos((k*R2)-(np.pi/2))# Change this to l*\n",
    "print(ClR2)"
   ]
  },
  {
   "cell_type": "code",
   "execution_count": null,
   "metadata": {},
   "outputs": [],
   "source": [
    "#Phase Shift\n",
    "print(np.arctan(((R*SlR2)-SlR1)/(ClR1-(R*ClR2))))"
   ]
  },
  {
   "cell_type": "markdown",
   "metadata": {},
   "source": [
    "# Test 3"
   ]
  },
  {
   "cell_type": "code",
   "execution_count": null,
   "metadata": {},
   "outputs": [],
   "source": [
    "#Two R values where K(R1-R2) ≈ π \n",
    "R1 = r3[50] #2.5\n",
    "R2 = r3[113] #2.65\n",
    "print(R1)\n",
    "print(R2)"
   ]
  },
  {
   "cell_type": "code",
   "execution_count": null,
   "metadata": {},
   "outputs": [],
   "source": [
    "# Numerical integration for R1 and R2 and finding the division of that \n",
    "print(yArr[49])\n",
    "print(yArr[112])\n",
    "R = yArr[49]/yArr[112]"
   ]
  },
  {
   "cell_type": "code",
   "execution_count": null,
   "metadata": {},
   "outputs": [],
   "source": [
    "#For R1\n",
    "SlR1 = np.sin((k*R1)-(l*np.pi/2))  \n",
    "print(SlR1)\n",
    "ClR1 = np.cos((k*R1)-(np.pi/2))# Change this to l*\n",
    "print(ClR1)\n",
    "\n",
    "#For R2\n",
    "SlR2 = np.sin((k*R2)-(l*np.pi/2))\n",
    "print(SlR2)\n",
    "ClR2 = np.cos((k*R2)-(np.pi/2))# Change this to l*\n",
    "print(ClR2)"
   ]
  },
  {
   "cell_type": "code",
   "execution_count": null,
   "metadata": {},
   "outputs": [],
   "source": [
    "#Phase Shift\n",
    "print(np.arctan(((R*SlR2)-SlR1)/(ClR1-(R*ClR2))))"
   ]
  },
  {
   "cell_type": "markdown",
   "metadata": {},
   "source": [
    "## Elastic Scattering Cross Section"
   ]
  },
  {
   "cell_type": "markdown",
   "metadata": {},
   "source": [
    "### To find it I need to find the phase shift for the first 3 values of L as my k is relatively small; I already have the first."
   ]
  },
  {
   "cell_type": "markdown",
   "metadata": {},
   "source": [
    "### For L = 1"
   ]
  },
  {
   "cell_type": "code",
   "execution_count": null,
   "metadata": {},
   "outputs": [],
   "source": [
    "l = 1\n",
    "# Code for f(x) array (Cant take into account first value as R=0, So the length of fArr is 699 not 700)\n",
    "fArr = []\n",
    "for i in range(len(r3)-1):\n",
    "    f = ((-l*(l+1))/r3[i+1]**2)-(2*mu*Approxline[i+1])+(k**2)\n",
    "    fArr.append(f)"
   ]
  },
  {
   "cell_type": "code",
   "execution_count": null,
   "metadata": {},
   "outputs": [],
   "source": [
    "# Array for y with y0 and y1 as the start\n",
    "yArr = []\n",
    "y0 = (r3[1]**(l+1))#/10**300\n",
    "y1 = (r3[2]**(l+1))#/10**300\n",
    "yArr.append(y0)\n",
    "yArr.append(y1)\n",
    "\n",
    "# For loop, trying to find every y value for the 699 values for f(x)\n",
    "for i in range(len(fArr)-2):\n",
    "    a = (2-((5/6)*h**2)*fArr[i+1])*yArr[i+1]\n",
    "    b = (1+((1/12)*h**2)*fArr[i])*yArr[i]\n",
    "    c = 1+((1/12)*h**2)*fArr[i+2]\n",
    "    y = (a-b)/c\n",
    "    yArr.append(y) "
   ]
  },
  {
   "cell_type": "code",
   "execution_count": null,
   "metadata": {},
   "outputs": [],
   "source": [
    "#Two R values where K(R1-R2) ≈ π \n",
    "R1 = r3[100] #5\n",
    "R2 = r3[163] #8.15\n",
    "R = yArr[99]/yArr[162]"
   ]
  },
  {
   "cell_type": "code",
   "execution_count": null,
   "metadata": {},
   "outputs": [],
   "source": [
    "#For R1\n",
    "SlR1 = np.sin((k*R1)-(l*np.pi/2))\n",
    "print(SlR1)\n",
    "ClR1 = np.cos((k*R1)-(np.pi/2))# Change this to l*\n",
    "print(ClR1)\n",
    "\n",
    "#For R2\n",
    "SlR2 = np.sin((k*R2)-(l*np.pi/2))\n",
    "print(SlR2)\n",
    "ClR2 = np.cos((k*R2)-(np.pi/2))# Change this to l*\n",
    "print(ClR2)"
   ]
  },
  {
   "cell_type": "code",
   "execution_count": null,
   "metadata": {},
   "outputs": [],
   "source": [
    "#Phase Shift\n",
    "Phase1 = np.arctan(((R*SlR2)-SlR1)/(ClR1-(R*ClR2)))\n",
    "print(Phase1)"
   ]
  },
  {
   "cell_type": "markdown",
   "metadata": {},
   "source": [
    "### For L = 2"
   ]
  },
  {
   "cell_type": "code",
   "execution_count": null,
   "metadata": {},
   "outputs": [],
   "source": [
    "l = 2\n",
    "# Code for f(x) array (Cant take into account first value as R=0, So the length of fArr is 699 not 700)\n",
    "fArr = []\n",
    "for i in range(len(r3)-1):\n",
    "    f = ((-l*(l+1))/r3[i+1]**2)-(2*mu*Approxline[i+1])+(k**2)\n",
    "    fArr.append(f)"
   ]
  },
  {
   "cell_type": "code",
   "execution_count": null,
   "metadata": {},
   "outputs": [],
   "source": [
    "# Array for y with y0 and y1 as the start\n",
    "yArr = []\n",
    "y0 = (r3[1]**(l+1))#/10**300\n",
    "y1 = (r3[2]**(l+1))#/10**300\n",
    "yArr.append(y0)\n",
    "yArr.append(y1)\n",
    "\n",
    "# For loop, trying to find every y value for the 699 values for f(x)\n",
    "for i in range(len(fArr)-2):\n",
    "    a = (2-((5/6)*h**2)*fArr[i+1])*yArr[i+1]\n",
    "    b = (1+((1/12)*h**2)*fArr[i])*yArr[i]\n",
    "    c = 1+((1/12)*h**2)*fArr[i+2]\n",
    "    y = (a-b)/c\n",
    "    yArr.append(y) "
   ]
  },
  {
   "cell_type": "code",
   "execution_count": null,
   "metadata": {},
   "outputs": [],
   "source": [
    "#Two R values where K(R1-R2) ≈ π \n",
    "R1 = r3[100] #5\n",
    "R2 = r3[163] #8.15\n",
    "R = yArr[99]/yArr[162]"
   ]
  },
  {
   "cell_type": "code",
   "execution_count": null,
   "metadata": {},
   "outputs": [],
   "source": [
    "#For R1\n",
    "SlR1 = np.sin((k*R1)-(l*np.pi/2))\n",
    "print(SlR1)\n",
    "ClR1 = np.cos((k*R1)-(np.pi/2))# Change this to l*\n",
    "print(ClR1)\n",
    "\n",
    "#For R2\n",
    "SlR2 = np.sin((k*R2)-(l*np.pi/2))\n",
    "print(SlR2)\n",
    "ClR2 = np.cos((k*R2)-(np.pi/2))# Change this to l*\n",
    "print(ClR2)"
   ]
  },
  {
   "cell_type": "code",
   "execution_count": null,
   "metadata": {},
   "outputs": [],
   "source": [
    "#Phase Shift\n",
    "Phase2 = np.arctan(((R*SlR2)-SlR1)/(ClR1-(R*ClR2)))\n",
    "print(Phase2)"
   ]
  },
  {
   "cell_type": "code",
   "execution_count": null,
   "metadata": {},
   "outputs": [],
   "source": [
    "# The elastic scattering cross section\n",
    "\n",
    "# Terms in sum\n",
    "term0 = (2*0+1)*(np.sin(Phase0))**2\n",
    "term1 = (2*1+1)*(np.sin(Phase1))**2\n",
    "term2 = (2*2+1)*(np.sin(Phase2))**2\n",
    "\n",
    "ESCS = ((4*np.pi)/k**2)*(term0 + term1 + term2)\n",
    "print(ESCS)"
   ]
  },
  {
   "cell_type": "code",
   "execution_count": null,
   "metadata": {},
   "outputs": [],
   "source": [
    "# Scattering length\n",
    "\n",
    "# For L = 0\n",
    "A0 = -Phase0/k\n",
    "print(A0)"
   ]
  }
 ],
 "metadata": {
  "kernelspec": {
   "display_name": "Python 3",
   "language": "python",
   "name": "python3"
  },
  "language_info": {
   "codemirror_mode": {
    "name": "ipython",
    "version": 3
   },
   "file_extension": ".py",
   "mimetype": "text/x-python",
   "name": "python",
   "nbconvert_exporter": "python",
   "pygments_lexer": "ipython3",
   "version": "3.8.3"
  }
 },
 "nbformat": 4,
 "nbformat_minor": 4
}
