{
 "cells": [
  {
   "cell_type": "markdown",
   "metadata": {},
   "source": [
    "# Assignment 3"
   ]
  },
  {
   "cell_type": "markdown",
   "metadata": {},
   "source": [
    "# Part 1 - Improving the 5-point stencil in CUDA"
   ]
  },
  {
   "cell_type": "markdown",
   "metadata": {},
   "source": [
    "In this part we are going to improve upon the cuda implementation of the evaluate discrete laplace function from assignment 2."
   ]
  },
  {
   "cell_type": "code",
   "execution_count": 1,
   "metadata": {},
   "outputs": [],
   "source": [
    "# Imports all the needed built in libraries\n",
    "import numpy as np\n",
    "import numba\n",
    "from numba import cuda\n",
    "import matplotlib.pyplot as plt "
   ]
  },
  {
   "cell_type": "markdown",
   "metadata": {},
   "source": [
    "For the cpu and previous gpu versions I added an extra function to each that allows me to construct arrays that will have them be the same dimensions so a relative error can be calculated.  "
   ]
  },
  {
   "cell_type": "markdown",
   "metadata": {},
   "source": [
    "## Cpu Version"
   ]
  },
  {
   "cell_type": "code",
   "execution_count": 2,
   "metadata": {},
   "outputs": [],
   "source": [
    "from scipy.sparse import coo_matrix\n",
    "\n",
    "def discretise_poisson(N):\n",
    "    \"\"\"Generate the matrix and rhs associated with the discrete Poisson operator.\"\"\"\n",
    "    \n",
    "    nelements = 5 * N**2 - 16 * N + 16\n",
    "    \n",
    "    row_ind = np.empty(nelements, dtype=np.float64)\n",
    "    col_ind = np.empty(nelements, dtype=np.float64)\n",
    "    data = np.empty(nelements, dtype=np.float64)\n",
    "    \n",
    "    f = np.empty(N * N, dtype=np.float64)\n",
    "    \n",
    "    count = 0\n",
    "    for j in range(N):\n",
    "        for i in range(N):\n",
    "            if i == 0 or i == N - 1 or j == 0 or j == N - 1:\n",
    "                row_ind[count] = col_ind[count] = j * N + i\n",
    "                data[count] =  0\n",
    "                f[j * N + i] = 0\n",
    "                count += 1\n",
    "                \n",
    "            else:\n",
    "                row_ind[count : count + 5] = j * N + i\n",
    "                col_ind[count] = j * N + i\n",
    "                col_ind[count + 1] = j * N + i + 1\n",
    "                col_ind[count + 2] = j * N + i - 1\n",
    "                col_ind[count + 3] = (j + 1) * N + i\n",
    "                col_ind[count + 4] = (j - 1) * N + i\n",
    "                                \n",
    "                data[count] = 4 * (N - 1)**2\n",
    "                data[count + 1 : count + 5] = - (N - 1)**2\n",
    "                f[j * N + i] = 1\n",
    "                \n",
    "                count += 5\n",
    "                                                \n",
    "    return coo_matrix((data, (row_ind, col_ind)), shape=(N**2, N**2)).tocsr(), f\n",
    "\n",
    "def eval_cpu(x, N):\n",
    "    '''Evalutes the CPU implementation to reshape result'''\n",
    "    N = N + 2\n",
    "    A, _ = discretise_poisson(N)\n",
    "    x = add_zeros(x)\n",
    "    res = A @ x\n",
    "\n",
    "    res = res.reshape((N, N))\n",
    "    res_fixed = []\n",
    "    for i in range(N):\n",
    "        row = []\n",
    "        for j in range(N):\n",
    "            if i == 0 or i == (N - 1) or j == 0 or j == (N - 1):\n",
    "                continue\n",
    "            else:\n",
    "                row.append(res[i][j])\n",
    "        if row:\n",
    "            res_fixed.append(row)\n",
    "\n",
    "    return res_fixed"
   ]
  },
  {
   "cell_type": "markdown",
   "metadata": {},
   "source": [
    "## Previous Cuda Version"
   ]
  },
  {
   "cell_type": "code",
   "execution_count": 3,
   "metadata": {},
   "outputs": [],
   "source": [
    "@cuda.jit\n",
    "def evaluate_discrete_laplace(vec_in, vec_out, N, omega):\n",
    "    \"\"\"Evaluate the discrete Laplace operator.\"\"\"\n",
    "    \n",
    "    i, j = cuda.grid(2)\n",
    "    \n",
    "    if i >= N:\n",
    "        return\n",
    "    if j >= N:\n",
    "        return\n",
    "    \n",
    "    # Compute the vector index\n",
    "    k = j * (N) + i\n",
    "    \n",
    "    if i == 0 or i == N - 1 or j == 0 or j == N - 1:\n",
    "        # We are at the boundary\n",
    "        # Here, the matrix just acts like the identity\n",
    "        vec_out[k] = 0\n",
    "        return\n",
    "    \n",
    "    # Now deal with the interior element\n",
    "    \n",
    "    up = vec_in[(j + 1) * N + i]\n",
    "    down = vec_in[(j - 1) * N + i]\n",
    "    left = vec_in[j * N + i - 1]\n",
    "    right = vec_in[j * N + i + 1]\n",
    "    center = vec_in[k]\n",
    "    \n",
    "    vec_out[k] = (N - 1)**2 * (numba.float32(4) * center - up - down - left - right)+(center * (omega**2))\n",
    "    \n",
    "def eval_gpu(x, N, omega):\n",
    "    '''runs steps required to evalute result from evaluate_discrete_laplace'''\n",
    "    N = N + 2\n",
    "    nblocks = (N + (SX - 1)) // SX\n",
    "    res = np.zeros(N * N, dtype=np.float32)\n",
    "    \n",
    "    evaluate_discrete_laplace[(nblocks, nblocks), (SX, SY)](x.astype('float32'), res, N, omega)\n",
    "    \n",
    "    return res"
   ]
  },
  {
   "cell_type": "markdown",
   "metadata": {},
   "source": [
    "## Making 3 Changes (GPU V2)"
   ]
  },
  {
   "cell_type": "code",
   "execution_count": 4,
   "metadata": {},
   "outputs": [],
   "source": [
    "# Define the size of the ThreadBlock\n",
    "SX = 32\n",
    "SY = 32\n",
    "\n",
    "# Shared array shape\n",
    "SAS = (SX+2, SY+2)\n",
    "\n",
    "@cuda.jit\n",
    "def evaluate_discrete_laplace_v2(vec_in, vec_out, N, omega):\n",
    "    \"\"\"Evaluate the discrete Laplace operator.\"\"\"\n",
    "    \n",
    "    # Creat shared memory\n",
    "    local_arr = cuda.shared.array((SAS), numba.float32)\n",
    "\n",
    "    # Local coordinates\n",
    "    tx = cuda.threadIdx.x\n",
    "    ty = cuda.threadIdx.y\n",
    "\n",
    "    # Global coordinates\n",
    "    i, j = cuda.grid(2)\n",
    "\n",
    "    # i and j need to be within boundaries\n",
    "    if i >= N:\n",
    "        return\n",
    "    if j >= N:\n",
    "        return\n",
    "\n",
    "    # define global index pointer for vec_in\n",
    "    k = j * N + i\n",
    "\n",
    "    # define local index pointer for shared_array\n",
    "    say = ty + 1\n",
    "    sax = tx + 1\n",
    "\n",
    "    # load elements of vec_in to shared memory\n",
    "    local_arr[say, sax] = vec_in[k]\n",
    "\n",
    "    \n",
    "    # TOP ROW\n",
    "    \n",
    "    # Top row of gridblock\n",
    "    if ty == 0:\n",
    "        local_arr[say - 1, sax] = vec_in[k - N]\n",
    "    # Top row of grid   \n",
    "    if j == 0:\n",
    "        local_arr[say - 1, sax] = numba.float32(0)\n",
    "    \n",
    "    # BOTTOM ROW\n",
    "    \n",
    "    # Bottom row of gridblock\n",
    "    if ty == (SY - 1):\n",
    "        local_arr[say + 1, sax] = vec_in[k + N]\n",
    "     # Bottom row of grid  \n",
    "    if j == (N - 1):\n",
    "        local_arr[say + 1, sax] = numba.float32(0)\n",
    "    \n",
    "    # LEFT MOST COLUMN\n",
    "    \n",
    "    # Left most column of gridblock\n",
    "    if tx == 0:\n",
    "        local_arr[say, sax - 1] = vec_in[k - 1]\n",
    "    # Left most column of grid  \n",
    "    if i == 0:\n",
    "        local_arr[say, sax - 1] = numba.float32(0)\n",
    "    \n",
    "    # RIGHT MOST COLUMN\n",
    "    \n",
    "    # Right most column of gridblock\n",
    "    if tx == (SX - 1):\n",
    "        local_arr[say, sax + 1] = vec_in[k + 1]\n",
    "    # Right most column of grid    \n",
    "    if i == (N - 1):\n",
    "        local_arr[say, sax + 1] = numba.float32(0)\n",
    "\n",
    "\n",
    "    cuda.syncthreads()\n",
    "\n",
    "    # calculate 5 stencil points\n",
    "    up = local_arr[say - 1, sax]\n",
    "    down = local_arr[say + 1, sax]\n",
    "    left = local_arr[say, sax - 1]\n",
    "    right = local_arr[say, sax + 1]\n",
    "    center = local_arr[say, sax]\n",
    "\n",
    "    # transfer calculated stencil back to global vec_out\n",
    "    vec_out[k] = ((N + 2) - 1)**2 * (numba.float32(4) * center - up - down - left - right) + ((omega**2)*center)\n",
    "    \n",
    "def eval_gpu_v2(x, N, omega):\n",
    "    \"\"\"Evaluate the discrete Laplacian on the GPU.\"\"\"\n",
    "    \n",
    "    res =  np.zeros(N*N, dtype=np.float32)\n",
    "    \n",
    "    nblocks = (N + 31) // 32\n",
    "    evaluate_discrete_laplace_v2[(nblocks, nblocks), (32, 32)](x.astype('float32'), res, N, omega)\n",
    "    return res"
   ]
  },
  {
   "cell_type": "markdown",
   "metadata": {},
   "source": [
    "Changed the 5-point stencil to incorporate local memory by using threadblocks. The code works by first defining all the local variables using the threadblock size. The reason I have used SX+2 is because we want our shared memory to read in a larger neighbourhood than SX as we have to check around elements and need to account for the elements at the boundary. The local coordinates for each thread and the global coordinates are then defined, which are used to populate local_arr. The position of each element (vector index) is then used to define the boundary of the grid local_arr and the boundaries of each threadblock by the movement of memory. This is done by considering the top, bottom rows and left most and right most columns. We then implement the 5-point stencil method to the interior elements and save them to local_arr which will then have its elements transferred to vec_out. I then implemented omega and demonstrated it below."
   ]
  },
  {
   "cell_type": "code",
   "execution_count": 5,
   "metadata": {},
   "outputs": [],
   "source": [
    "# Allows us to make result from evaluate_discrete_laplace the correct dimension\n",
    "def add_zeros(x):\n",
    "    '''function to add zeros at the boundary for the original cuda implementation'''\n",
    "    x = x.reshape((N, N))\n",
    "    new_x = np.zeros((N + 2, N + 2))\n",
    "    \n",
    "    for i in range(N):\n",
    "        for j in range(N):\n",
    "            new_x[i + 1][j + 1] = x[i][j]\n",
    "    return new_x.ravel()"
   ]
  },
  {
   "cell_type": "code",
   "execution_count": 6,
   "metadata": {},
   "outputs": [],
   "source": [
    "# Sets constants\n",
    "N = 500\n",
    "omega = 0\n",
    "rand = np.random.RandomState(0)\n",
    "x = rand.randn(N * N)"
   ]
  },
  {
   "cell_type": "code",
   "execution_count": 7,
   "metadata": {},
   "outputs": [],
   "source": [
    "# CPU implementation \n",
    "y_cpu = eval_cpu(x, N)"
   ]
  },
  {
   "cell_type": "code",
   "execution_count": 8,
   "metadata": {},
   "outputs": [],
   "source": [
    "# Calculate result based on evaluate_discrete_laplace\n",
    "x_gpu = add_zeros(x)\n",
    "y_gpu = eval_gpu(x_gpu, N, omega)\n",
    "\n",
    "# Reshape old gpu by removing zeros\n",
    "\n",
    "y_gpu = y_gpu.reshape((N + 2, N + 2))\n",
    "y_gpu_new = []\n",
    "\n",
    "for i in range(N + 2):\n",
    "    row = []\n",
    "    for j in range(N + 2):\n",
    "        if i == 0 or i == (N + 2 - 1) or j == 0 or j == (N + 2 - 1):\n",
    "            continue\n",
    "        else:\n",
    "            row.append(y_gpu[i][j])\n",
    "    if row:\n",
    "        y_gpu_new.append(row)\n",
    "\n",
    "y_gpu = y_gpu_new"
   ]
  },
  {
   "cell_type": "code",
   "execution_count": 9,
   "metadata": {},
   "outputs": [],
   "source": [
    "# Sets new dimensions for latest gpu version\n",
    "imp_gpu = eval_gpu_v2(x,N,omega)\n",
    "imp_gpu = imp_gpu.reshape(N, N)"
   ]
  },
  {
   "cell_type": "code",
   "execution_count": 10,
   "metadata": {},
   "outputs": [
    {
     "name": "stdout",
     "output_type": "stream",
     "text": [
      "Relative error between gpu v2 and gpu v1: \n",
      "2.359691286812904e-08.\n",
      "Relative error between cpu and gpu v2: \n",
      "5.419254196525032e-08.\n"
     ]
    }
   ],
   "source": [
    "# Calculate residual between gpu v2 and gpu v1\n",
    "\n",
    "rel_error = np.linalg.norm(y_gpu - imp_gpu, np.inf) / np.linalg.norm(y_gpu, np.inf)\n",
    "print(f\"Relative error between gpu v2 and gpu v1: \\n{rel_error}.\")\n",
    "\n",
    "# Calculate residual between gpu v2 and cpu\n",
    "\n",
    "rel_error = np.linalg.norm(y_cpu - imp_gpu, np.inf) / np.linalg.norm(y_cpu, np.inf)\n",
    "print(f\"Relative error between cpu and gpu v2: \\n{rel_error}.\")"
   ]
  },
  {
   "cell_type": "markdown",
   "metadata": {},
   "source": [
    "As the relative error of our new gpu implementation in comparison to the cpu and original gpu implementation is very small it shows that our values are very similar and that our v2 is functional. "
   ]
  },
  {
   "cell_type": "markdown",
   "metadata": {},
   "source": [
    "## Benchmark"
   ]
  },
  {
   "cell_type": "code",
   "execution_count": 11,
   "metadata": {},
   "outputs": [
    {
     "name": "stdout",
     "output_type": "stream",
     "text": [
      "3.54 ms ± 317 µs per loop (mean ± std. dev. of 7 runs, 100 loops each)\n"
     ]
    }
   ],
   "source": [
    "%timeit eval_gpu_v2(x, N, omega)"
   ]
  },
  {
   "cell_type": "code",
   "execution_count": 12,
   "metadata": {},
   "outputs": [
    {
     "name": "stdout",
     "output_type": "stream",
     "text": [
      "3.15 ms ± 30.7 µs per loop (mean ± std. dev. of 7 runs, 100 loops each)\n"
     ]
    }
   ],
   "source": [
    "%timeit eval_gpu(x, N, omega)"
   ]
  },
  {
   "cell_type": "markdown",
   "metadata": {},
   "source": [
    "Version 2 of the gpu implementation has a slightly quicker run time than the old version and consistently has a smaller uncertainty making it a more reliable option with a consistent run time."
   ]
  },
  {
   "cell_type": "markdown",
   "metadata": {},
   "source": [
    "# Part 2: Solving modifed Helmholtz problems with CG on the GPU"
   ]
  },
  {
   "cell_type": "markdown",
   "metadata": {},
   "source": [
    "In this part of the assignment, we want to use the CG solver to solve PDEs on the GPU."
   ]
  },
  {
   "cell_type": "code",
   "execution_count": 13,
   "metadata": {},
   "outputs": [],
   "source": [
    "# Import needed libraries\n",
    "\n",
    "from scipy.sparse import diags\n",
    "from scipy.sparse.linalg import cg\n",
    "from scipy.sparse.linalg import LinearOperator"
   ]
  },
  {
   "cell_type": "markdown",
   "metadata": {},
   "source": [
    "## Cpu implementation"
   ]
  },
  {
   "cell_type": "markdown",
   "metadata": {},
   "source": [
    "CPU implementation that solves Ax = b systems, taken from the notes."
   ]
  },
  {
   "cell_type": "code",
   "execution_count": 14,
   "metadata": {},
   "outputs": [
    {
     "name": "stdout",
     "output_type": "stream",
     "text": [
      "  (0, 0)\t2.1\n",
      "  (0, 1)\t-1.0\n",
      "  (1, 1)\t2.1\n",
      "  (1, 2)\t-1.0\n",
      "  (1, 0)\t-1.0\n",
      "  (2, 2)\t2.1\n",
      "  (2, 3)\t-1.0\n",
      "  (2, 1)\t-1.0\n",
      "  (3, 3)\t2.1\n",
      "  (3, 4)\t-1.0\n",
      "  (3, 2)\t-1.0\n",
      "  (4, 4)\t2.1\n",
      "  (4, 5)\t-1.0\n",
      "  (4, 3)\t-1.0\n",
      "  (5, 5)\t2.1\n",
      "  (5, 6)\t-1.0\n",
      "  (5, 4)\t-1.0\n",
      "  (6, 6)\t2.1\n",
      "  (6, 7)\t-1.0\n",
      "  (6, 5)\t-1.0\n",
      "  (7, 7)\t2.1\n",
      "  (7, 8)\t-1.0\n",
      "  (7, 6)\t-1.0\n",
      "  (8, 8)\t2.1\n",
      "  (8, 9)\t-1.0\n",
      "  :\t:\n",
      "  (9991, 9992)\t-1.0\n",
      "  (9991, 9990)\t-1.0\n",
      "  (9992, 9992)\t2.1\n",
      "  (9992, 9993)\t-1.0\n",
      "  (9992, 9991)\t-1.0\n",
      "  (9993, 9993)\t2.1\n",
      "  (9993, 9994)\t-1.0\n",
      "  (9993, 9992)\t-1.0\n",
      "  (9994, 9994)\t2.1\n",
      "  (9994, 9995)\t-1.0\n",
      "  (9994, 9993)\t-1.0\n",
      "  (9995, 9995)\t2.1\n",
      "  (9995, 9996)\t-1.0\n",
      "  (9995, 9994)\t-1.0\n",
      "  (9996, 9996)\t2.1\n",
      "  (9996, 9997)\t-1.0\n",
      "  (9996, 9995)\t-1.0\n",
      "  (9997, 9997)\t2.1\n",
      "  (9997, 9998)\t-1.0\n",
      "  (9997, 9996)\t-1.0\n",
      "  (9998, 9998)\t2.1\n",
      "  (9998, 9999)\t-1.0\n",
      "  (9998, 9997)\t-1.0\n",
      "  (9999, 9999)\t2.1\n",
      "  (9999, 9998)\t-1.0\n"
     ]
    }
   ],
   "source": [
    "# Creating a symetric positive matrix\n",
    "\n",
    "n = 10000\n",
    "data = [2.1 * np.ones(n),\n",
    "        -1. * np.ones(n - 1),\n",
    "        -1. * np.ones(n - 1)]\n",
    "\n",
    "offsets = [0, 1, -1]\n",
    "\n",
    "A = diags(data, offsets=offsets, shape=(n, n), format='csr')\n",
    "print(A)"
   ]
  },
  {
   "cell_type": "code",
   "execution_count": 15,
   "metadata": {},
   "outputs": [
    {
     "data": {
      "image/png": "[encoded data removed]",
      "text/plain": [
       "<Figure size 576x576 with 1 Axes>"
      ]
     },
     "metadata": {
      "needs_background": "light"
     },
     "output_type": "display_data"
    }
   ],
   "source": [
    "# Solving the associated linear system with CG \n",
    "\n",
    "b = np.ones(n)\n",
    "residuals = []\n",
    "callback = lambda x: residuals.append(np.linalg.norm(b - A @ x) / np.linalg.norm(b))\n",
    "sol, _ = cg(A, b, tol=1E-6, callback=callback, maxiter=1000)\n",
    "\n",
    "# Convergence\n",
    "\n",
    "fig = plt.figure(figsize=(8, 8))\n",
    "ax = fig.add_subplot(111)\n",
    "ax.semilogy(1 + np.arange(len(residuals)), residuals, 'k--')\n",
    "ax.set_title('CG Convergence')\n",
    "ax.set_xlabel('Iteration Step')\n",
    "_ = ax.set_ylabel('$\\|Ax-b\\|_2 / \\|b\\|_2$')"
   ]
  },
  {
   "cell_type": "markdown",
   "metadata": {},
   "source": [
    "## GPU implementation"
   ]
  },
  {
   "cell_type": "code",
   "execution_count": 16,
   "metadata": {},
   "outputs": [],
   "source": [
    "# Define a function for the linear operator\n",
    "def new_eval_gpu_cg(x):\n",
    "    \"\"\"Evaluate the discrete Laplacian on the GPU.\"\"\"\n",
    "    res = np.empty(N*N, dtype=np.float32)\n",
    "    nblocks = (N + SX - 1) // 32\n",
    "    evaluate_discrete_laplace[(nblocks, nblocks), (32, 32)](x.astype('float32'), res, N, omega)\n",
    "    return res.astype('float64')"
   ]
  },
  {
   "cell_type": "code",
   "execution_count": null,
   "metadata": {},
   "outputs": [],
   "source": []
  }
 ],
 "metadata": {
  "kernelspec": {
   "display_name": "Python 3",
   "language": "python",
   "name": "python3"
  },
  "language_info": {
   "codemirror_mode": {
    "name": "ipython",
    "version": 3
   },
   "file_extension": ".py",
   "mimetype": "text/x-python",
   "name": "python",
   "nbconvert_exporter": "python",
   "pygments_lexer": "ipython3",
   "version": "3.8.3"
  }
 },
 "nbformat": 4,
 "nbformat_minor": 4
}
