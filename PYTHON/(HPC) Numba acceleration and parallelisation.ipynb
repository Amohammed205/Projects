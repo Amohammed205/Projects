{
 "cells": [
  {
   "cell_type": "markdown",
   "metadata": {},
   "source": [
    "# Part 1 : Defining the Recurrence Relation and Benchmarking the Runtime for growing Values of N  "
   ]
  },
  {
   "cell_type": "code",
   "execution_count": 1,
   "metadata": {},
   "outputs": [],
   "source": [
    "def F(n):\n",
    "    counter = 0\n",
    "    firstnum = 0\n",
    "    secondnum = 1\n",
    "    newnum = 0\n",
    "    \n",
    "    while counter < n-1:\n",
    "        newnum = firstnum +secondnum\n",
    "        firstnum = secondnum\n",
    "        secondnum = newnum\n",
    "        counter = counter + 1\n",
    "        \n",
    "    return newnum"
   ]
  },
  {
   "cell_type": "code",
   "execution_count": 2,
   "metadata": {},
   "outputs": [
    {
     "data": {
      "text/plain": [
       "144"
      ]
     },
     "execution_count": 2,
     "metadata": {},
     "output_type": "execute_result"
    }
   ],
   "source": [
    "F(12)"
   ]
  },
  {
   "cell_type": "code",
   "execution_count": 1,
   "metadata": {},
   "outputs": [
    {
     "name": "stdout",
     "output_type": "stream",
     "text": [
      "9\n"
     ]
    }
   ],
   "source": [
    "print(int(9))"
   ]
  },
  {
   "cell_type": "code",
   "execution_count": 3,
   "metadata": {},
   "outputs": [
    {
     "ename": "KeyboardInterrupt",
     "evalue": "",
     "output_type": "error",
     "traceback": [
      "\u001b[1;31m---------------------------------------------------------------------------\u001b[0m",
      "\u001b[1;31mKeyboardInterrupt\u001b[0m                         Traceback (most recent call last)",
      "\u001b[1;32m<ipython-input-3-7f35b67d6d4b>\u001b[0m in \u001b[0;36m<module>\u001b[1;34m\u001b[0m\n\u001b[0;32m      1\u001b[0m \u001b[1;31m# Imports all the needed built in libraries\u001b[0m\u001b[1;33m\u001b[0m\u001b[1;33m\u001b[0m\u001b[1;33m\u001b[0m\u001b[0m\n\u001b[1;32m----> 2\u001b[1;33m \u001b[0mget_ipython\u001b[0m\u001b[1;33m(\u001b[0m\u001b[1;33m)\u001b[0m\u001b[1;33m.\u001b[0m\u001b[0mrun_line_magic\u001b[0m\u001b[1;33m(\u001b[0m\u001b[1;34m'matplotlib'\u001b[0m\u001b[1;33m,\u001b[0m \u001b[1;34m'notebook'\u001b[0m\u001b[1;33m)\u001b[0m\u001b[1;33m\u001b[0m\u001b[1;33m\u001b[0m\u001b[0m\n\u001b[0m\u001b[0;32m      3\u001b[0m \u001b[1;32mimport\u001b[0m \u001b[0mnumpy\u001b[0m \u001b[1;32mas\u001b[0m \u001b[0mnp\u001b[0m\u001b[1;33m\u001b[0m\u001b[1;33m\u001b[0m\u001b[0m\n\u001b[0;32m      4\u001b[0m \u001b[1;32mimport\u001b[0m \u001b[0mmatplotlib\u001b[0m\u001b[1;33m.\u001b[0m\u001b[0mpyplot\u001b[0m \u001b[1;32mas\u001b[0m \u001b[0mplt\u001b[0m\u001b[1;33m\u001b[0m\u001b[1;33m\u001b[0m\u001b[0m\n",
      "\u001b[1;32m~\\anaconda3\\lib\\site-packages\\IPython\\core\\interactiveshell.py\u001b[0m in \u001b[0;36mrun_line_magic\u001b[1;34m(self, magic_name, line, _stack_depth)\u001b[0m\n\u001b[0;32m   2324\u001b[0m                 \u001b[0mkwargs\u001b[0m\u001b[1;33m[\u001b[0m\u001b[1;34m'local_ns'\u001b[0m\u001b[1;33m]\u001b[0m \u001b[1;33m=\u001b[0m \u001b[0msys\u001b[0m\u001b[1;33m.\u001b[0m\u001b[0m_getframe\u001b[0m\u001b[1;33m(\u001b[0m\u001b[0mstack_depth\u001b[0m\u001b[1;33m)\u001b[0m\u001b[1;33m.\u001b[0m\u001b[0mf_locals\u001b[0m\u001b[1;33m\u001b[0m\u001b[1;33m\u001b[0m\u001b[0m\n\u001b[0;32m   2325\u001b[0m             \u001b[1;32mwith\u001b[0m \u001b[0mself\u001b[0m\u001b[1;33m.\u001b[0m\u001b[0mbuiltin_trap\u001b[0m\u001b[1;33m:\u001b[0m\u001b[1;33m\u001b[0m\u001b[1;33m\u001b[0m\u001b[0m\n\u001b[1;32m-> 2326\u001b[1;33m                 \u001b[0mresult\u001b[0m \u001b[1;33m=\u001b[0m \u001b[0mfn\u001b[0m\u001b[1;33m(\u001b[0m\u001b[1;33m*\u001b[0m\u001b[0margs\u001b[0m\u001b[1;33m,\u001b[0m \u001b[1;33m**\u001b[0m\u001b[0mkwargs\u001b[0m\u001b[1;33m)\u001b[0m\u001b[1;33m\u001b[0m\u001b[1;33m\u001b[0m\u001b[0m\n\u001b[0m\u001b[0;32m   2327\u001b[0m             \u001b[1;32mreturn\u001b[0m \u001b[0mresult\u001b[0m\u001b[1;33m\u001b[0m\u001b[1;33m\u001b[0m\u001b[0m\n\u001b[0;32m   2328\u001b[0m \u001b[1;33m\u001b[0m\u001b[0m\n",
      "\u001b[1;32m<decorator-gen-109>\u001b[0m in \u001b[0;36mmatplotlib\u001b[1;34m(self, line)\u001b[0m\n",
      "\u001b[1;32m~\\anaconda3\\lib\\site-packages\\IPython\\core\\magic.py\u001b[0m in \u001b[0;36m<lambda>\u001b[1;34m(f, *a, **k)\u001b[0m\n\u001b[0;32m    185\u001b[0m     \u001b[1;31m# but it's overkill for just that one bit of state.\u001b[0m\u001b[1;33m\u001b[0m\u001b[1;33m\u001b[0m\u001b[1;33m\u001b[0m\u001b[0m\n\u001b[0;32m    186\u001b[0m     \u001b[1;32mdef\u001b[0m \u001b[0mmagic_deco\u001b[0m\u001b[1;33m(\u001b[0m\u001b[0marg\u001b[0m\u001b[1;33m)\u001b[0m\u001b[1;33m:\u001b[0m\u001b[1;33m\u001b[0m\u001b[1;33m\u001b[0m\u001b[0m\n\u001b[1;32m--> 187\u001b[1;33m         \u001b[0mcall\u001b[0m \u001b[1;33m=\u001b[0m \u001b[1;32mlambda\u001b[0m \u001b[0mf\u001b[0m\u001b[1;33m,\u001b[0m \u001b[1;33m*\u001b[0m\u001b[0ma\u001b[0m\u001b[1;33m,\u001b[0m \u001b[1;33m**\u001b[0m\u001b[0mk\u001b[0m\u001b[1;33m:\u001b[0m \u001b[0mf\u001b[0m\u001b[1;33m(\u001b[0m\u001b[1;33m*\u001b[0m\u001b[0ma\u001b[0m\u001b[1;33m,\u001b[0m \u001b[1;33m**\u001b[0m\u001b[0mk\u001b[0m\u001b[1;33m)\u001b[0m\u001b[1;33m\u001b[0m\u001b[1;33m\u001b[0m\u001b[0m\n\u001b[0m\u001b[0;32m    188\u001b[0m \u001b[1;33m\u001b[0m\u001b[0m\n\u001b[0;32m    189\u001b[0m         \u001b[1;32mif\u001b[0m \u001b[0mcallable\u001b[0m\u001b[1;33m(\u001b[0m\u001b[0marg\u001b[0m\u001b[1;33m)\u001b[0m\u001b[1;33m:\u001b[0m\u001b[1;33m\u001b[0m\u001b[1;33m\u001b[0m\u001b[0m\n",
      "\u001b[1;32m~\\anaconda3\\lib\\site-packages\\IPython\\core\\magics\\pylab.py\u001b[0m in \u001b[0;36mmatplotlib\u001b[1;34m(self, line)\u001b[0m\n\u001b[0;32m     97\u001b[0m             \u001b[0mprint\u001b[0m\u001b[1;33m(\u001b[0m\u001b[1;34m\"Available matplotlib backends: %s\"\u001b[0m \u001b[1;33m%\u001b[0m \u001b[0mbackends_list\u001b[0m\u001b[1;33m)\u001b[0m\u001b[1;33m\u001b[0m\u001b[1;33m\u001b[0m\u001b[0m\n\u001b[0;32m     98\u001b[0m         \u001b[1;32melse\u001b[0m\u001b[1;33m:\u001b[0m\u001b[1;33m\u001b[0m\u001b[1;33m\u001b[0m\u001b[0m\n\u001b[1;32m---> 99\u001b[1;33m             \u001b[0mgui\u001b[0m\u001b[1;33m,\u001b[0m \u001b[0mbackend\u001b[0m \u001b[1;33m=\u001b[0m \u001b[0mself\u001b[0m\u001b[1;33m.\u001b[0m\u001b[0mshell\u001b[0m\u001b[1;33m.\u001b[0m\u001b[0menable_matplotlib\u001b[0m\u001b[1;33m(\u001b[0m\u001b[0margs\u001b[0m\u001b[1;33m.\u001b[0m\u001b[0mgui\u001b[0m\u001b[1;33m.\u001b[0m\u001b[0mlower\u001b[0m\u001b[1;33m(\u001b[0m\u001b[1;33m)\u001b[0m \u001b[1;32mif\u001b[0m \u001b[0misinstance\u001b[0m\u001b[1;33m(\u001b[0m\u001b[0margs\u001b[0m\u001b[1;33m.\u001b[0m\u001b[0mgui\u001b[0m\u001b[1;33m,\u001b[0m \u001b[0mstr\u001b[0m\u001b[1;33m)\u001b[0m \u001b[1;32melse\u001b[0m \u001b[0margs\u001b[0m\u001b[1;33m.\u001b[0m\u001b[0mgui\u001b[0m\u001b[1;33m)\u001b[0m\u001b[1;33m\u001b[0m\u001b[1;33m\u001b[0m\u001b[0m\n\u001b[0m\u001b[0;32m    100\u001b[0m             \u001b[0mself\u001b[0m\u001b[1;33m.\u001b[0m\u001b[0m_show_matplotlib_backend\u001b[0m\u001b[1;33m(\u001b[0m\u001b[0margs\u001b[0m\u001b[1;33m.\u001b[0m\u001b[0mgui\u001b[0m\u001b[1;33m,\u001b[0m \u001b[0mbackend\u001b[0m\u001b[1;33m)\u001b[0m\u001b[1;33m\u001b[0m\u001b[1;33m\u001b[0m\u001b[0m\n\u001b[0;32m    101\u001b[0m \u001b[1;33m\u001b[0m\u001b[0m\n",
      "\u001b[1;32m~\\anaconda3\\lib\\site-packages\\IPython\\core\\interactiveshell.py\u001b[0m in \u001b[0;36menable_matplotlib\u001b[1;34m(self, gui)\u001b[0m\n\u001b[0;32m   3417\u001b[0m         \"\"\"\n\u001b[0;32m   3418\u001b[0m         \u001b[1;32mfrom\u001b[0m \u001b[0mIPython\u001b[0m\u001b[1;33m.\u001b[0m\u001b[0mcore\u001b[0m \u001b[1;32mimport\u001b[0m \u001b[0mpylabtools\u001b[0m \u001b[1;32mas\u001b[0m \u001b[0mpt\u001b[0m\u001b[1;33m\u001b[0m\u001b[1;33m\u001b[0m\u001b[0m\n\u001b[1;32m-> 3419\u001b[1;33m         \u001b[0mgui\u001b[0m\u001b[1;33m,\u001b[0m \u001b[0mbackend\u001b[0m \u001b[1;33m=\u001b[0m \u001b[0mpt\u001b[0m\u001b[1;33m.\u001b[0m\u001b[0mfind_gui_and_backend\u001b[0m\u001b[1;33m(\u001b[0m\u001b[0mgui\u001b[0m\u001b[1;33m,\u001b[0m \u001b[0mself\u001b[0m\u001b[1;33m.\u001b[0m\u001b[0mpylab_gui_select\u001b[0m\u001b[1;33m)\u001b[0m\u001b[1;33m\u001b[0m\u001b[1;33m\u001b[0m\u001b[0m\n\u001b[0m\u001b[0;32m   3420\u001b[0m \u001b[1;33m\u001b[0m\u001b[0m\n\u001b[0;32m   3421\u001b[0m         \u001b[1;32mif\u001b[0m \u001b[0mgui\u001b[0m \u001b[1;33m!=\u001b[0m \u001b[1;34m'inline'\u001b[0m\u001b[1;33m:\u001b[0m\u001b[1;33m\u001b[0m\u001b[1;33m\u001b[0m\u001b[0m\n",
      "\u001b[1;32m~\\anaconda3\\lib\\site-packages\\IPython\\core\\pylabtools.py\u001b[0m in \u001b[0;36mfind_gui_and_backend\u001b[1;34m(gui, gui_select)\u001b[0m\n\u001b[0;32m    278\u001b[0m     \"\"\"\n\u001b[0;32m    279\u001b[0m \u001b[1;33m\u001b[0m\u001b[0m\n\u001b[1;32m--> 280\u001b[1;33m     \u001b[1;32mimport\u001b[0m \u001b[0mmatplotlib\u001b[0m\u001b[1;33m\u001b[0m\u001b[1;33m\u001b[0m\u001b[0m\n\u001b[0m\u001b[0;32m    281\u001b[0m \u001b[1;33m\u001b[0m\u001b[0m\n\u001b[0;32m    282\u001b[0m     \u001b[1;32mif\u001b[0m \u001b[0mgui\u001b[0m \u001b[1;32mand\u001b[0m \u001b[0mgui\u001b[0m \u001b[1;33m!=\u001b[0m \u001b[1;34m'auto'\u001b[0m\u001b[1;33m:\u001b[0m\u001b[1;33m\u001b[0m\u001b[1;33m\u001b[0m\u001b[0m\n",
      "\u001b[1;32m~\\anaconda3\\lib\\site-packages\\matplotlib\\__init__.py\u001b[0m in \u001b[0;36m<module>\u001b[1;34m\u001b[0m\n\u001b[0;32m    137\u001b[0m \u001b[1;31m# cbook must import matplotlib only within function\u001b[0m\u001b[1;33m\u001b[0m\u001b[1;33m\u001b[0m\u001b[1;33m\u001b[0m\u001b[0m\n\u001b[0;32m    138\u001b[0m \u001b[1;31m# definitions, so it is safe to import from it here.\u001b[0m\u001b[1;33m\u001b[0m\u001b[1;33m\u001b[0m\u001b[1;33m\u001b[0m\u001b[0m\n\u001b[1;32m--> 139\u001b[1;33m \u001b[1;32mfrom\u001b[0m \u001b[1;33m.\u001b[0m \u001b[1;32mimport\u001b[0m \u001b[0mcbook\u001b[0m\u001b[1;33m,\u001b[0m \u001b[0mrcsetup\u001b[0m\u001b[1;33m\u001b[0m\u001b[1;33m\u001b[0m\u001b[0m\n\u001b[0m\u001b[0;32m    140\u001b[0m from matplotlib.cbook import (\n\u001b[0;32m    141\u001b[0m     MatplotlibDeprecationWarning, dedent, get_label, sanitize_sequence)\n",
      "\u001b[1;32m~\\anaconda3\\lib\\site-packages\\matplotlib\\cbook\\__init__.py\u001b[0m in \u001b[0;36m<module>\u001b[1;34m\u001b[0m\n\u001b[0;32m     30\u001b[0m \u001b[1;32mfrom\u001b[0m \u001b[0mweakref\u001b[0m \u001b[1;32mimport\u001b[0m \u001b[0mWeakMethod\u001b[0m\u001b[1;33m\u001b[0m\u001b[1;33m\u001b[0m\u001b[0m\n\u001b[0;32m     31\u001b[0m \u001b[1;33m\u001b[0m\u001b[0m\n\u001b[1;32m---> 32\u001b[1;33m \u001b[1;32mimport\u001b[0m \u001b[0mnumpy\u001b[0m \u001b[1;32mas\u001b[0m \u001b[0mnp\u001b[0m\u001b[1;33m\u001b[0m\u001b[1;33m\u001b[0m\u001b[0m\n\u001b[0m\u001b[0;32m     33\u001b[0m \u001b[1;33m\u001b[0m\u001b[0m\n\u001b[0;32m     34\u001b[0m \u001b[1;32mimport\u001b[0m \u001b[0mmatplotlib\u001b[0m\u001b[1;33m\u001b[0m\u001b[1;33m\u001b[0m\u001b[0m\n",
      "\u001b[1;32m~\\anaconda3\\lib\\site-packages\\numpy\\__init__.py\u001b[0m in \u001b[0;36m<module>\u001b[1;34m\u001b[0m\n\u001b[0;32m    140\u001b[0m     \u001b[1;32mfrom\u001b[0m \u001b[1;33m.\u001b[0m \u001b[1;32mimport\u001b[0m \u001b[0m_distributor_init\u001b[0m\u001b[1;33m\u001b[0m\u001b[1;33m\u001b[0m\u001b[0m\n\u001b[0;32m    141\u001b[0m \u001b[1;33m\u001b[0m\u001b[0m\n\u001b[1;32m--> 142\u001b[1;33m     \u001b[1;32mfrom\u001b[0m \u001b[1;33m.\u001b[0m \u001b[1;32mimport\u001b[0m \u001b[0mcore\u001b[0m\u001b[1;33m\u001b[0m\u001b[1;33m\u001b[0m\u001b[0m\n\u001b[0m\u001b[0;32m    143\u001b[0m     \u001b[1;32mfrom\u001b[0m \u001b[1;33m.\u001b[0m\u001b[0mcore\u001b[0m \u001b[1;32mimport\u001b[0m \u001b[1;33m*\u001b[0m\u001b[1;33m\u001b[0m\u001b[1;33m\u001b[0m\u001b[0m\n\u001b[0;32m    144\u001b[0m     \u001b[1;32mfrom\u001b[0m \u001b[1;33m.\u001b[0m \u001b[1;32mimport\u001b[0m \u001b[0mcompat\u001b[0m\u001b[1;33m\u001b[0m\u001b[1;33m\u001b[0m\u001b[0m\n",
      "\u001b[1;32m~\\anaconda3\\lib\\site-packages\\numpy\\core\\__init__.py\u001b[0m in \u001b[0;36m<module>\u001b[1;34m\u001b[0m\n\u001b[0;32m     89\u001b[0m \u001b[1;32mfrom\u001b[0m \u001b[1;33m.\u001b[0m \u001b[1;32mimport\u001b[0m \u001b[0mshape_base\u001b[0m\u001b[1;33m\u001b[0m\u001b[1;33m\u001b[0m\u001b[0m\n\u001b[0;32m     90\u001b[0m \u001b[1;32mfrom\u001b[0m \u001b[1;33m.\u001b[0m\u001b[0mshape_base\u001b[0m \u001b[1;32mimport\u001b[0m \u001b[1;33m*\u001b[0m\u001b[1;33m\u001b[0m\u001b[1;33m\u001b[0m\u001b[0m\n\u001b[1;32m---> 91\u001b[1;33m \u001b[1;32mfrom\u001b[0m \u001b[1;33m.\u001b[0m \u001b[1;32mimport\u001b[0m \u001b[0meinsumfunc\u001b[0m\u001b[1;33m\u001b[0m\u001b[1;33m\u001b[0m\u001b[0m\n\u001b[0m\u001b[0;32m     92\u001b[0m \u001b[1;32mfrom\u001b[0m \u001b[1;33m.\u001b[0m\u001b[0meinsumfunc\u001b[0m \u001b[1;32mimport\u001b[0m \u001b[1;33m*\u001b[0m\u001b[1;33m\u001b[0m\u001b[1;33m\u001b[0m\u001b[0m\n\u001b[0;32m     93\u001b[0m \u001b[1;32mdel\u001b[0m \u001b[0mnt\u001b[0m\u001b[1;33m\u001b[0m\u001b[1;33m\u001b[0m\u001b[0m\n",
      "\u001b[1;32m~\\anaconda3\\lib\\importlib\\_bootstrap.py\u001b[0m in \u001b[0;36m_find_and_load\u001b[1;34m(name, import_)\u001b[0m\n",
      "\u001b[1;32m~\\anaconda3\\lib\\importlib\\_bootstrap.py\u001b[0m in \u001b[0;36m_find_and_load_unlocked\u001b[1;34m(name, import_)\u001b[0m\n",
      "\u001b[1;32m~\\anaconda3\\lib\\importlib\\_bootstrap.py\u001b[0m in \u001b[0;36m_load_unlocked\u001b[1;34m(spec)\u001b[0m\n",
      "\u001b[1;32m~\\anaconda3\\lib\\importlib\\_bootstrap_external.py\u001b[0m in \u001b[0;36mexec_module\u001b[1;34m(self, module)\u001b[0m\n",
      "\u001b[1;32m~\\anaconda3\\lib\\importlib\\_bootstrap_external.py\u001b[0m in \u001b[0;36mget_code\u001b[1;34m(self, fullname)\u001b[0m\n",
      "\u001b[1;32m~\\anaconda3\\lib\\importlib\\_bootstrap_external.py\u001b[0m in \u001b[0;36mget_data\u001b[1;34m(self, path)\u001b[0m\n",
      "\u001b[1;31mKeyboardInterrupt\u001b[0m: "
     ]
    }
   ],
   "source": [
    "# Imports all the needed built in libraries\n",
    "%matplotlib notebook\n",
    "import numpy as np\n",
    "import matplotlib.pyplot as plt"
   ]
  },
  {
   "cell_type": "code",
   "execution_count": null,
   "metadata": {},
   "outputs": [],
   "source": [
    "# Define a timer for python\n",
    "import time \n",
    "\n",
    "class Timer:    \n",
    "    def __enter__(self):\n",
    "        self.start = time.time()\n",
    "        return self\n",
    "\n",
    "    def __exit__(self, *args):\n",
    "        self.end = time.time()\n",
    "        self.interval = self.end - self.start"
   ]
  },
  {
   "cell_type": "code",
   "execution_count": null,
   "metadata": {
    "scrolled": true
   },
   "outputs": [],
   "source": [
    "N = 100\n",
    "# Makes a random square matrix with dimensions N+2 of type float64\n",
    "utest = np.random.randint(10, size=(N+2,N+2)).astype(float)"
   ]
  },
  {
   "cell_type": "code",
   "execution_count": null,
   "metadata": {},
   "outputs": [],
   "source": [
    "def diffusion_iteration(un):\n",
    "    \n",
    "    '''Definition of the recurrence relation and its boundary conditions\n",
    "    Inputs:\n",
    "    un: The original array that we need to apply the iteration to\n",
    "    Outputs:\n",
    "    u1: New array that the recurrance relation has been applied to'''\n",
    "    \n",
    "    N = len(un)\n",
    "    \n",
    "    u1 = un.copy()\n",
    "    \n",
    "    for i in range(1,N-1):\n",
    "        for j in range(1,N-1):\n",
    "            u1[i][j]=0.25*(un[i+1][j]+un[i-1][j]+un[i][j+1]+un[i][j-1])\n",
    "            \n",
    "                    \n",
    "    return u1"
   ]
  },
  {
   "cell_type": "code",
   "execution_count": null,
   "metadata": {},
   "outputs": [],
   "source": [
    "# Starts timer\n",
    "with Timer() as t: \n",
    "# Prints the first interation of the recurrance relation\n",
    "    print (diffusion_iteration(utest))\n",
    "print(\"Time taken to apply diffusion iteration: {0}\".format(t.interval))"
   ]
  },
  {
   "cell_type": "markdown",
   "metadata": {},
   "source": [
    "## Code for Plot of N against Time "
   ]
  },
  {
   "cell_type": "code",
   "execution_count": null,
   "metadata": {},
   "outputs": [],
   "source": [
    "# Start timer for cell\n",
    "starttotal = time.time()\n",
    "#Empty times array\n",
    "times = []\n",
    "Nrange = 400\n",
    "for x in range(Nrange):\n",
    "    N=x\n",
    "    # New array for every N value from 0 to Nrange\n",
    "    u0 = np.random.randint(10, size=(N+2,N+2)).astype(float)\n",
    "    with Timer() as t: \n",
    "        diffusion_iteration(u0)\n",
    "    times.append(t.interval)\n",
    "print(\"Total Time for Cell: \",time.time()-starttotal) "
   ]
  },
  {
   "cell_type": "code",
   "execution_count": null,
   "metadata": {},
   "outputs": [],
   "source": [
    "# x coordinates from 0 to Nrange\n",
    "x = np.arange(Nrange)\n",
    "plt.figure()\n",
    "plt.plot(x,times,\".\")\n",
    "plt.title('Runtime against N')\n",
    "plt.xlabel('N')\n",
    "plt.ylabel('Time/s')"
   ]
  },
  {
   "cell_type": "markdown",
   "metadata": {},
   "source": [
    "## Complexity of runtime as N gets bigger\n",
    "\n",
    "As the value of N gets larger the graph shows that the runtime of each iteration is also getting larger at a quadratic rate, which is expected, as the for loop is exectuting the function for $(N+2)^2$ values which is increasing with $N$. \n",
    "\n",
    "\n",
    "The main observation I made from the graph was when a close up of any points between 0 and 200 were taken; many points in this range had the same time. From my understanding this must be due to the insignificant difference in the times, and python is unable to differentiate them."
   ]
  },
  {
   "cell_type": "markdown",
   "metadata": {},
   "source": [
    "# Part 2: Implementing Numba"
   ]
  },
  {
   "cell_type": "code",
   "execution_count": null,
   "metadata": {},
   "outputs": [],
   "source": [
    "from numba import njit, jit\n",
    "N=100"
   ]
  },
  {
   "cell_type": "code",
   "execution_count": null,
   "metadata": {},
   "outputs": [],
   "source": [
    "@njit\n",
    "def diffusion_iteration_v2(un_v2):\n",
    "    \n",
    "    '''Definition of the recurrance relation and its boundary conditions\n",
    "    Inputs:\n",
    "    un_v2: The original array that we need to apply the iteration to\n",
    "    Outputs:\n",
    "    u1_v2: New array that the recurrance relation has been applied to'''\n",
    "    \n",
    "    N = len(un_v2)\n",
    "    \n",
    "    u1_v2 = un_v2.copy()\n",
    "    \n",
    "    for i in range(1,N-1):\n",
    "        for j in range(1,N-1):\n",
    "            u1_v2[i][j]=0.25*(un_v2[i+1][j]+un_v2[i-1][j]+un_v2[i][j+1]+un_v2[i][j-1])\n",
    "            \n",
    "                    \n",
    "    return u1_v2"
   ]
  },
  {
   "cell_type": "code",
   "execution_count": null,
   "metadata": {},
   "outputs": [],
   "source": [
    "# Starts timer\n",
    "with Timer() as t: \n",
    "# Prints the first first interation of the recurrance relation\n",
    "    print (diffusion_iteration_v2(utest))\n",
    "print(\"Time taken to apply diffusion iteration: {0}\".format(t.interval))"
   ]
  },
  {
   "cell_type": "code",
   "execution_count": null,
   "metadata": {},
   "outputs": [],
   "source": [
    "# Start timer for cell\n",
    "starttotal = time.time()\n",
    "#Empty times array\n",
    "times1 = []\n",
    "for x in range(Nrange):\n",
    "    N=x\n",
    "    # New array for every N value from 0 to Nrange\n",
    "    u0 = np.random.randint(10, size=(N+2,N+2)).astype(float)\n",
    "    with Timer() as t: \n",
    "        diffusion_iteration_v2(u0)\n",
    "    times1.append(t.interval)\n",
    "print(\"Total time for cell: \",time.time()-starttotal)"
   ]
  },
  {
   "cell_type": "code",
   "execution_count": null,
   "metadata": {},
   "outputs": [],
   "source": [
    "# x coordinates from 0 to Nrange\n",
    "x = np.arange(Nrange)\n",
    "plt.figure()\n",
    "plt.plot(x,times1,\".\")\n",
    "plt.title('Runtime against N')\n",
    "plt.xlabel('N')\n",
    "plt.ylabel('Time/s')"
   ]
  },
  {
   "cell_type": "markdown",
   "metadata": {},
   "source": [
    "## Speed-up with Numba\n",
    "\n",
    "As can be seen above implementing njit will take longer than pure python for 1 iteration, but, is significantly faster for 400 different iterations. njit, just-in time compiles Python code into fast machine code, this is useful for many for loops but will take longer for a single operation as the conversion is longer. This is further proven by the graph as most points take 0 seconds; the ones that take longer must be because numba is recompiling."
   ]
  },
  {
   "cell_type": "markdown",
   "metadata": {},
   "source": [
    "## Implementing Parallelisation"
   ]
  },
  {
   "cell_type": "code",
   "execution_count": null,
   "metadata": {},
   "outputs": [],
   "source": [
    "from numba import njit, jit, prange\n",
    "N=100"
   ]
  },
  {
   "cell_type": "code",
   "execution_count": null,
   "metadata": {},
   "outputs": [],
   "source": [
    "@njit(parallel=True)\n",
    "def diffusion_iteration_v3(un_v3):\n",
    "    \n",
    "    '''Definition of the recurrance relation and its boundary conditions\n",
    "    Inputs:\n",
    "    un_v3: The original array that we need to apply the iteration to\n",
    "    Outputs:\n",
    "    u1_v3: New array that the recurrance relation has been applied to'''\n",
    "    \n",
    "    N = len(un_v3)\n",
    "    \n",
    "    u1_v3 = un_v3.copy()\n",
    "    \n",
    "    for i in prange(1,N-1):\n",
    "        for j in prange(1,N-1):\n",
    "            u1_v3[i][j]=0.25*(un_v3[i+1][j]+un_v3[i-1][j]+un_v3[i][j+1]+un_v3[i][j-1])\n",
    "            \n",
    "                    \n",
    "    return u1_v3"
   ]
  },
  {
   "cell_type": "code",
   "execution_count": null,
   "metadata": {},
   "outputs": [],
   "source": [
    "# Starts timer\n",
    "with Timer() as t: \n",
    "# Prints the first interation of the recurrance relation\n",
    "    print (diffusion_iteration_v3(utest))\n",
    "print(\"Time taken to apply diffusion iteration: {0}\".format(t.interval))"
   ]
  },
  {
   "cell_type": "code",
   "execution_count": null,
   "metadata": {},
   "outputs": [],
   "source": [
    "# Start timer for cell\n",
    "starttotal = time.time()\n",
    "#Empty times array\n",
    "times2 = []\n",
    "for x in range(Nrange):\n",
    "    N=x\n",
    "    # New array for every N value from 0 to Nrange\n",
    "    u0 = np.random.randint(10, size=(N+2,N+2)).astype(float)\n",
    "    with Timer() as t: \n",
    "        diffusion_iteration_v3(u0)\n",
    "    times2.append(t.interval)\n",
    "print(\"Total time for cell: \",time.time()-starttotal)"
   ]
  },
  {
   "cell_type": "markdown",
   "metadata": {},
   "source": [
    "In my cpu (i5-8600k) I have 6 cores so my theoretical time should be 0.05 seconds for an Nrange of 400, but, it gives a very similar time to when parallelisation is false. I think this is due to the unnecessary use of extra cores as one core is as fast as the process can be done."
   ]
  },
  {
   "cell_type": "markdown",
   "metadata": {},
   "source": [
    "# Part 3: Visualisation"
   ]
  },
  {
   "cell_type": "code",
   "execution_count": null,
   "metadata": {},
   "outputs": [],
   "source": [
    "N = 12\n",
    "# Makes a random square matrix with dimensions N+2 of type float64\n",
    "utest = np.random.randint(10, size=(N+2,N+2)).astype(float)"
   ]
  },
  {
   "cell_type": "code",
   "execution_count": null,
   "metadata": {},
   "outputs": [],
   "source": [
    "@njit\n",
    "def diffusion_iteration_v4(un_v4):\n",
    "    \n",
    "    '''Definition of the recurrance relation and its boundary conditions\n",
    "    Inputs:\n",
    "    un_v4: The original array that we need to apply the iteration to\n",
    "    Outputs:\n",
    "    u1_v4: New array that the recurrance relation has been applied to with new boundary conditions'''\n",
    "    \n",
    "    N = len(un_v4)\n",
    "    \n",
    "    u1_v4 = un_v4.copy()\n",
    "    \n",
    "    for i in range(1,N-1):\n",
    "        for j in range(1,N-1):\n",
    "                u1_v4[i][j]=0.25*(un_v4[i+1][j]+un_v4[i-1][j]+un_v4[i][j+1]+un_v4[i][j-1])\n",
    "    \n",
    "    #New boundary conditions\n",
    "    u1_v4[0]= 0 * np.ones(N)\n",
    "    u1_v4[N-1]= 0 * np.ones(N)\n",
    "    \n",
    "    for i in range(N):\n",
    "        u1_v4[i][0] = 0\n",
    "    for i in range (N):\n",
    "        u1_v4[i][N-1] = 0\n",
    "                    \n",
    "    return u1_v4"
   ]
  },
  {
   "cell_type": "code",
   "execution_count": null,
   "metadata": {},
   "outputs": [],
   "source": [
    "#Plots a static representation of u1 for utest \n",
    "plt.figure()\n",
    "plt.imshow(diffusion_iteration_v4(utest))"
   ]
  },
  {
   "cell_type": "code",
   "execution_count": null,
   "metadata": {},
   "outputs": [],
   "source": [
    "def diffusion_iteration_number(un,n):\n",
    "\n",
    "    '''Definition of the recurrance relation and its boundary conditions\n",
    "    Inputs:\n",
    "    un: The original array that we need to apply the iteration to\n",
    "    n: the number of iterations\n",
    "    Outputs:\n",
    "    num_iterations: New array that the recurrance relation has been applied to n times'''\n",
    "    \n",
    "    num_iterations = []\n",
    "    for x in range(n):\n",
    "        un = diffusion_iteration_v4(un)\n",
    "        num_iterations.append(un)\n",
    "    return num_iterations"
   ]
  },
  {
   "cell_type": "code",
   "execution_count": null,
   "metadata": {},
   "outputs": [],
   "source": [
    "arr_iterations = diffusion_iteration_number(utest,50)"
   ]
  },
  {
   "cell_type": "code",
   "execution_count": null,
   "metadata": {},
   "outputs": [],
   "source": [
    "# First set up the figure, the axis, and the plot element we want to animate\n",
    "from matplotlib import animation\n",
    "fig = plt.figure()\n",
    "ax = plt.axes(xlim=(0, N+1), ylim=(0, N+1))\n",
    "\n",
    "#Set a to first array in list \n",
    "a = arr_iterations[0]\n",
    "im = plt.imshow(a,interpolation='none')\n",
    "\n",
    "# initialization function: plot the background of each frame    \n",
    "def init():\n",
    "    for i in range(len(arr_iterations)):\n",
    "        im.set_data(arr_iterations[i])\n",
    "    return [im]\n",
    "\n",
    "\n",
    "# animation function.  This is called sequentially\n",
    "def animate(i):\n",
    "    #Gets current array from im and sets next array to a \n",
    "    a = im.get_array()\n",
    "    a = arr_iterations[i]   \n",
    "    im.set_array(a)\n",
    "    return [im]\n",
    "\n",
    "#Generates the animation and sets each cycle to 8 seconds\n",
    "anim = animation.FuncAnimation(fig, animate, init_func=init,\n",
    "                               frames=52, interval=150, blit=True)"
   ]
  },
  {
   "cell_type": "markdown",
   "metadata": {},
   "source": [
    "The animated plot shows how the outside zeros converge inwards as more iterations are applied to the same matrix. The corners are the first values to drop to 0 as the average is calculated by dividing 2 numbers by 4."
   ]
  },
  {
   "cell_type": "markdown",
   "metadata": {},
   "source": [
    "# Part 4: Advanced Problem"
   ]
  },
  {
   "cell_type": "code",
   "execution_count": null,
   "metadata": {},
   "outputs": [],
   "source": [
    "N = 12\n",
    "# Makes a random square matrix with dimensions N+2 of type float64\n",
    "utest = np.random.randint(10, size=(N+2,N+2)).astype(float)"
   ]
  },
  {
   "cell_type": "code",
   "execution_count": null,
   "metadata": {},
   "outputs": [],
   "source": [
    "@njit(parallel=True)\n",
    "def diffusion_iteration_v5(un_v5,c_i):\n",
    "    \n",
    "    '''Definition of the recurrance relation and its boundary conditions\n",
    "    Inputs:\n",
    "    un_v5: The original array that we need to apply the iteration to\n",
    "    c_i: A list of all the diagonal points that will be kept the same\n",
    "    Outputs:\n",
    "    u1_v5: New array that the recurrance relation has been applied to with the additional boundary condition'''\n",
    "    \n",
    "    N = len(un_v5)\n",
    "    u1_v5 = un_v5.copy()\n",
    "    \n",
    "    for i in prange(1,N-1):\n",
    "        for j in range(1,N-1):\n",
    "            \n",
    "            for x in range(len(c_i)):\n",
    "                u1_v5[c_i[x]][c_i[x]] = un_v5[c_i[x]][c_i[x]]\n",
    "                \n",
    "            u1_v5[i][j]=0.25*(un_v5[i+1][j]+un_v5[i-1][j]+un_v5[i][j+1]+un_v5[i][j-1])\n",
    "     \n",
    "    \n",
    "    #New boundary conditions\n",
    "    u1_v5[0]= 0 * np.ones(N)\n",
    "    u1_v5[N-1]= 0 * np.ones(N)\n",
    "    \n",
    "    for i in range(N):\n",
    "        u1_v5[i][0]= 0\n",
    "    for i in range (N):\n",
    "        u1_v5[i][N-1]= 0\n",
    "                \n",
    "                 \n",
    "    return u1_v5"
   ]
  },
  {
   "cell_type": "code",
   "execution_count": null,
   "metadata": {},
   "outputs": [],
   "source": [
    "def diffusion_iteration_number1(un,c_i,n):\n",
    "\n",
    "    '''Definition of the recurrance relation and its boundary conditions\n",
    "    Inputs:\n",
    "    un: The original array that we need to apply the iteration to\n",
    "    n: The number of iterations\n",
    "    c_i: A list of all the diagonal points that will be kept the same\n",
    "    Outputs:\n",
    "    num_iterations: New array that the recurrance relation has been applied to n times'''\n",
    "    \n",
    "    num_iterations = []\n",
    "    for x in range(n):\n",
    "        un = diffusion_iteration_v5(un,c_i)\n",
    "        num_iterations.append(un)\n",
    "    return num_iterations"
   ]
  },
  {
   "cell_type": "code",
   "execution_count": null,
   "metadata": {
    "scrolled": true
   },
   "outputs": [],
   "source": [
    "import random\n",
    "# Generates an array with 5 random diagonals that stay constant\n",
    "con_diag = diffusion_iteration_number1(utest,random.sample(range(1, N), 5),500)"
   ]
  },
  {
   "cell_type": "code",
   "execution_count": null,
   "metadata": {},
   "outputs": [],
   "source": [
    "# First set up the figure, the axis, and the plot element we want to animate\n",
    "from matplotlib import animation\n",
    "fig1 = plt.figure()\n",
    "ax1 = plt.axes(xlim=(0, N+1), ylim=(0, N+1))\n",
    "\n",
    "#Set a to first array in list \n",
    "a1 = con_diag[0]\n",
    "im1 = plt.imshow(a,interpolation='none')\n",
    "\n",
    "# initialization function: plot the background of each frame    \n",
    "def init1():\n",
    "    for i in range(len(con_diag)):\n",
    "        im1.set_data(con_diag[i])\n",
    "    return [im1]\n",
    "\n",
    "\n",
    "# animation function.  This is called sequentially\n",
    "def animate1(i):\n",
    "    #Gets current array from im and sets next array to a \n",
    "    a1 = im1.get_array()\n",
    "    a1 = con_diag[i]   \n",
    "    im1.set_array(a1)\n",
    "    return [im1]\n",
    "\n",
    "#Generates the animation and sets each cycle to 8 seconds\n",
    "anim1 = animation.FuncAnimation(fig1, animate1, init_func=init1,\n",
    "                               frames=52, interval=150, blit=True)"
   ]
  },
  {
   "cell_type": "markdown",
   "metadata": {},
   "source": [
    "This animated plot shows how zeros converge inwards when 5 random numbers in the diagonal are fixed. It shows that high fixed points will increase the average of surrounding points so the zeros will not converge to them."
   ]
  }
 ],
 "metadata": {
  "kernelspec": {
   "display_name": "Python 3",
   "language": "python",
   "name": "python3"
  },
  "language_info": {
   "codemirror_mode": {
    "name": "ipython",
    "version": 3
   },
   "file_extension": ".py",
   "mimetype": "text/x-python",
   "name": "python",
   "nbconvert_exporter": "python",
   "pygments_lexer": "ipython3",
   "version": "3.8.3"
  }
 },
 "nbformat": 4,
 "nbformat_minor": 4
}
